{
 "cells": [
  {
   "cell_type": "code",
   "execution_count": null,
   "id": "07be0649-b3de-4789-b628-f5210eefc61d",
   "metadata": {
    "collapsed": true,
    "jupyter": {
     "outputs_hidden": true,
     "source_hidden": true
    },
    "tags": []
   },
   "outputs": [],
   "source": [
    "import pandas as pd"
   ]
  },
  {
   "cell_type": "code",
   "execution_count": 2,
   "id": "7f1f9e5d-3eee-4af5-a5bc-43868045fd88",
   "metadata": {},
   "outputs": [],
   "source": [
    "desired_columns = [\"Physical transformation\",\"Future self\",\"Past self\",\"Current self\",\"Physical wishes\"]\n",
    "data = data[desired_columns]"
   ]
  },
  {
   "cell_type": "code",
   "execution_count": 3,
   "id": "15f89564-7994-40ed-8bf7-c2a825a75da0",
   "metadata": {},
   "outputs": [],
   "source": [
    "data['Looks/Body'] = data[desired_columns].astype(str).agg(' '.join, axis=1)\n",
    "data['Looks/Body'] = data['Looks/Body'].apply(lambda x: 1 if '1' in x else 0)"
   ]
  },
  {
   "cell_type": "code",
   "execution_count": 4,
   "id": "7f980480-9ac4-45c2-8c43-8e080ac753bf",
   "metadata": {},
   "outputs": [],
   "source": [
    "desired_columns = [\"Looks/Body\"]\n",
    "data = data[desired_columns]"
   ]
  },
  {
   "cell_type": "code",
   "execution_count": 5,
   "id": "b25cbeb8-a7dd-4f4b-9fe0-9d0ac7128f66",
   "metadata": {},
   "outputs": [],
   "source": [
    "desired_columns = [\"all_text\"]\n",
    "text = text.rename_axis(\"POSTING ID\")\n",
    "text = text[desired_columns]"
   ]
  },
  {
   "cell_type": "code",
   "execution_count": 7,
   "id": "e8652465-74c7-4c12-914e-7445ed86fa3e",
   "metadata": {},
   "outputs": [],
   "source": [
    "df = pd.merge(text, data, on='POSTING ID')\n",
    "df.rename(columns={'Looks/Body': 'label'}, inplace=True)"
   ]
  },
  {
   "cell_type": "code",
   "execution_count": 8,
   "id": "a91fd65f-74da-4ff9-a242-aa26d316826e",
   "metadata": {},
   "outputs": [],
   "execution_count": 8,
   "metadata": {},
   "source": [
    "df.reset_index(drop=True)"
   ]
  },
  {
   "cell_type": "code",
   "execution_count": 9,
   "id": "e460d686-d202-4a66-94c7-8e70077e0cd2",
   "metadata": {},
   "outputs": [],
   "execution_count": 8,
   "metadata": {},
   "source": [
    "import logging\n",
    "import datasets\n",
    "import matplotlib.pyplot as plt\n",
    "import gc\n",
    "import torch\n",
    "from sklearn.metrics import precision_score, accuracy_score, f1_score, classification_report, PrecisionRecallDisplay\n",
    "import numpy as np\n",
    "import os\n",
    "from small_text.base import LABEL_IGNORED\n",
    "\n",
    "from small_text import (\n",
    "    EmptyPoolException,\n",
    "    PoolBasedActiveLearner,\n",
    "    PoolExhaustedException,\n",
    "    BreakingTies,\n",
    "    EmbeddingKMeans,\n",
    "    SetFitClassificationFactory,\n",
    "    SetFitModelArguments,\n",
    "    TextDataset,\n",
    "    random_initialization_balanced,\n",
    "    SubsamplingQueryStrategy\n",
    ")\n",
    "\n",
    "import pandas as pd\n",
    "\n",
    "import pigeonXT as pixt\n",
    "from typing import List, Optional, Any, Tuple, Dict\n",
    "\n",
    "class Annotation:\n",
    "    @staticmethod\n",
    "    def run_annotation(df: pd.DataFrame, labels: List[str], column_name: str)->pixt.annotate:\n",
    "        # This will only setup the annotation, and needs to be confirmed via UI interaction\n",
    "        return pixt.annotate(\n",
    "            examples=df[[column_name]].rename(columns={column_name: 'example'}),\n",
    "            options=labels,\n",
    "            task_type='classification',\n",
    "            buttons_in_a_row=3,\n",
    "            reset_buttons_after_click=True,\n",
    "            include_next=True\n",
    "        )\n",
    "    \n",
    "def samp(dat,n):\n",
    "    if len(dat) < n:\n",
    "        return dat.drop(columns=[\"label\"])\n",
    "    return dat.sample(n).drop(columns=[\"label\"])\n",
    "    \n",
    "# disables the progress bar for notebooks: https://github.com/huggingface/datasets/issues/2651\n",
    "datasets.logging.get_verbosity = lambda: logging.NOTSET\n",
    "\n",
    "POSSIBLE_LABELS = [0,1]\n",
    "\n",
    "target_labels = np.arange(len(POSSIBLE_LABELS)-1).astype(int)"
   ]
  },
  {
   "cell_type": "code",
   "execution_count": 10,
   "id": "a6d5d1cf-6781-4ea3-8c51-8ff8f5b989c7",
   "metadata": {},
   "outputs": [],
   "source": [
    "all_unlabeled = text.iloc[1000:1200]"
   ]
  },
  {
   "cell_type": "code",
   "execution_count": 11,
   "id": "7847a3e7-fbf1-4e77-888f-3efc259a74d1",
   "metadata": {},
   "outputs": [],
   "execution_count": 8,
   "metadata": {},
   "source": [
    "init_labels = np.array([1 if s == '1' else 0 for s in df.label.values.tolist()])\n",
    "init_dataset = TextDataset.from_arrays(df.all_text.values.tolist(),                        \n",
    "                                        init_labels,\n",
    "                                        target_labels=target_labels)"
   ]
  },
  {
   "cell_type": "code",
   "execution_count": 12,
   "id": "be674a59-b68e-4ae2-964c-13afddb2f689",
   "metadata": {},
   "outputs": [],
   "execution_count": 8,
   "metadata": {},
   "source": [
    "full_labeled_sample = df[['all_text','label']].rename(columns={\"all_text\":\"modeling_text\"})"
   ]
  },
  {
   "cell_type": "code",
   "execution_count": 13,
   "id": "4b6c2747-7ab5-4800-b777-5538750a5e6c",
   "metadata": {},
   "outputs": [],
   "execution_count": 8,
   "metadata": {},
   "source": [
    "all_unlabeled = all_unlabeled[~all_unlabeled.all_text.isin(full_labeled_sample.modeling_text.values.tolist())]"
   ]
  },
  {
   "cell_type": "code",
   "execution_count": 14,
   "id": "2688bb7d-8220-421b-b9bf-a1b08239dbfe",
   "metadata": {},
   "outputs": [],
   "source": [
    "full_labeled_sample\n",
    "full_labeled_sample_ones = full_labeled_sample[full_labeled_sample['label'] == 1]\n",
    "full_labeled_sample_zeros = full_labeled_sample[full_labeled_sample['label'] == 0]\n",
    "sampled_ones = full_labeled_sample_ones.sample(n=50, random_state=42)\n",
    "sampled_zeros = full_labeled_sample_zeros.sample(n=50, random_state=42)\n",
    "balanced_df = pd.concat([sampled_ones, sampled_zeros])\n",
    "balanced_df = balanced_df.sample(frac=1, random_state=42).reset_index(drop=True)"
   ]
  },
  {
   "cell_type": "code",
   "execution_count": 15,
   "id": "c9c7defe-f014-4398-99d7-d9438bb9c5a3",
   "metadata": {},
   "outputs": [],
   "source": [
    "validation_data = balanced_df"
   ]
  },
  {
   "cell_type": "code",
   "execution_count": 16,
   "id": "a0cfeb55-5ec0-409f-93f3-64904071c0ad",
   "metadata": {},
   "outputs": [
    {
     "data": {
      "text/plain": [
       "(365, 100)"
      ]
     },
     "execution_count": 16,
     "metadata": {},
     "output_type": "execute_result"
    }
   ],
   "source": [
    "init_labeled = full_labeled_sample.groupby(\"label\").apply(samp,n=200).reset_index()\n",
    "#validation_data = full_labeled_sample[~full_labeled_sample.modeling_text.isin(init_labeled.modeling_text)].groupby(\"label\").apply(samp,n=100).reset_index()\n",
    "len(init_labeled), len(validation_data)"
   ]
  },
  {
   "cell_type": "code",
   "execution_count": 17,
   "id": "3d34ecac-8c71-4298-a93d-72953d8075a2",
   "metadata": {},
   "outputs": [
    {
     "data": {
      "text/plain": [
       "2"
      ]
     },
     "execution_count": 17,
     "metadata": {},
     "output_type": "execute_result"
    }
   ],
   "source": [
    "validation_data['label'].nunique() "
   ]
  },
  {
   "cell_type": "code",
   "execution_count": 18,
   "id": "d3ba8f28-807f-4fa8-96ea-36f2acc4629d",
   "metadata": {},
   "outputs": [],
   "source": [
    "target_labels = [0,1]"
   ]
  },
  {
   "cell_type": "code",
   "execution_count": 19,
   "id": "bb6d32b6-ea96-486c-8472-2e71a6a3062c",
   "metadata": {},
   "outputs": [],
   "execution_count": 8,
   "metadata": {},
   "source": [
    "init_dataset = TextDataset.from_arrays(init_labeled.modeling_text.values.tolist(),                        \n",
    "                                       init_labeled.label.values,\n",
    "                                       target_labels=target_labels)"
   ]
  },
  {
   "cell_type": "code",
   "execution_count": 20,
   "id": "980735d6-d288-4127-8ccb-9112a8994841",
   "metadata": {},
   "outputs": [
    {
     "name": "stdout",
     "output_type": "stream",
     "text": [
      "Labels in data: [0 1]\n",
      "Target labels: [0, 1]\n"
     ]
    }
   ],
   "source": [
    "print(\"Labels in data:\", init_labeled.label.unique())\n",
    "print(\"Target labels:\", target_labels)"
   ]
  },
  {
   "cell_type": "code",
   "execution_count": 21,
   "id": "fdc64c6f-6ce2-4001-ba77-ea199f59fd55",
   "metadata": {},
   "outputs": [],
   "source": [
    "validation_dataset = TextDataset.from_arrays(validation_data.modeling_text.values.tolist(),                        \n",
    "                                             validation_data.label.values,\n",
    "                                               target_labels=target_labels)"
   ]
  },
  {
   "cell_type": "code",
   "execution_count": 23,
   "id": "30eb4631-70c3-4e99-b0f3-db8ba401c585",
   "metadata": {},
   "outputs": [],
   "source": [
    "posts = all_unlabeled.all_text.values.tolist()"
   ]
  },
  {
   "cell_type": "code",
   "execution_count": null,
   "id": "0bb0eacb-a801-42b4-94b1-621ec6ab0d11",
   "metadata": {
    "collapsed": true,
    "jupyter": {
     "outputs_hidden": true
    },
    "tags": []
   },
   "outputs": [
    {
     "data": {
      "text/plain": [
       "365"
      ]
     },
     "execution_count": 24,
     "metadata": {},
     "output_type": "execute_result"
    }
   ],
   "source": [
    "len(init_dataset.x)"
   ]
  },
  {
   "cell_type": "code",
   "execution_count": 25,
   "id": "8b7e1a2c-8495-4324-943e-63bb5b664135",
   "metadata": {},
   "outputs": [],
   "execution_count": 8,
   "metadata": {},
   "source": [
    "from small_text import LABEL_UNLABELED\n",
    "model_args = SetFitModelArguments('sentence-transformers/paraphrase-mpnet-base-v2')\n",
    "\n",
    "clf_factory = SetFitClassificationFactory(model_args,\n",
    "                                          len(POSSIBLE_LABELS),\n",
    "                                          classification_kwargs=dict({\n",
    "                                              'device': 'cuda',\n",
    "                                              'mini_batch_size': 8\n",
    "                                          }))\n",
    "\n",
    "# define a query strategy and initialize a pool-based active learner\n",
    "query_strategy = SubsamplingQueryStrategy(BreakingTies())\n",
    "\n",
    "def initialize_with_warmstart(init_dataset):\n",
    "    \n",
    "\n",
    "    # Append the initial labeled data to our train dataset. This is only necessary because the logistic regression head \n",
    "    #   implicitly obtains the number of classes from the training data. If we omitted this and the first query \n",
    "    #   would not return all four labels, the model head would predict three classes instead of four.\n",
    "    labeled_indices = np.arange(len(init_dataset.y))\n",
    "\n",
    "    train = TextDataset.from_arrays(init_dataset.x + posts, \n",
    "                                    np.append(init_dataset.y, np.array([LABEL_UNLABELED]*len(posts))), \n",
    "                                    target_labels=target_labels)\n",
    "    \n",
    "    # suppress progress bars in jupyter notebook\n",
    "    setfit_train_kwargs = {'show_progress_bar': False}\n",
    "\n",
    "    active_learner = PoolBasedActiveLearner(clf_factory, query_strategy, train, \n",
    "                                            fit_kwargs={'setfit_train_kwargs': setfit_train_kwargs})\n",
    "    active_learner._clf = clf_factory.new()\n",
    "    active_learner._clf.fit(init_dataset, setfit_train_kwargs=setfit_train_kwargs)\n",
    "\n",
    "    active_learner.y = init_dataset.y\n",
    "    active_learner.indices_labeled = labeled_indices\n",
    "    active_learner._index_to_position = active_learner._build_index_to_position_dict()\n",
    "    \n",
    "    return active_learner, train\n",
    "\n",
    "\n",
    "active_learner, train = initialize_with_warmstart(init_dataset)"
   ]
  },
  {
   "cell_type": "code",
   "execution_count": null,
   "id": "d34d0e97-ba9f-4847-9918-61342050d3a1",
   "metadata": {},
   "outputs": [],
   "source": [
    "def evaluate(active_learner, train, test):\n",
    "    \n",
    "    if len(train) == 0:\n",
    "        return np.nan\n",
    "    \n",
    "    y_pred = active_learner.classifier.predict(train)\n",
    "    y_score = active_learner.classifier.predict_proba(test)\n",
    "    y_pred_test = active_learner.classifier.predict(test)\n",
    "    \n",
    "    test_acc = accuracy_score(y_pred_test, test.y)\n",
    "    test_f1 = f1_score(test.y, y_pred_test, average=\"macro\")\n",
    "\n",
    "    print('Train accuracy: {:.2f}'.format(accuracy_score(y_pred, train.y)))\n",
    "    print('Test accuracy: {:.2f}'.format(test_acc))\n",
    "    print('Test F1: {:.2f}'.format(test_f1))\n",
    "    print(classification_report(test.y,y_pred_test))\n",
    "    return test_acc\n",
    "\n",
    "\n",
    "results_setfit = []\n",
    "results_setfit.append(evaluate(active_learner, train[active_learner.indices_labeled], validation_dataset))"
   ]
  },
  {
   "cell_type": "code",
   "execution_count": 26,
   "id": "de7fe5b0-799d-461a-87bc-616ec2e96100",
   "metadata": {},
   "outputs": [],
   "source": [
    "round_v = 1\n",
    "prefix = \"Looks_Body\""
   ]
  },
  {
   "cell_type": "code",
   "execution_count": 27,
   "id": "a1fe0c96-ff84-4758-a116-ada37cf23024",
   "metadata": {},
   "outputs": [],
   "execution_count": 8,
   "metadata": {},
   "source": [
    "train_dat = pd.DataFrame({\"tr\":train.x})"
   ]
  },
  {
   "cell_type": "code",
   "execution_count": 63,
   "id": "2fe8ced3-6252-43a7-aa66-87e39ce519fe",
   "metadata": {},
   "outputs": [],
   "execution_count": 8,
   "metadata": {},
   "source": [
    "num_queries = 20\n",
    "\n",
    "round_v = round_v + 1\n",
    "# ...where each iteration consists of labeling 20 samples\n",
    "q_indices = active_learner.query(num_samples=num_queries)\n",
    "\n",
    "annotations = Annotation.run_annotation(train_dat.iloc[q_indices,:],['0','1'],'tr')"
   ]
  },
  {
   "cell_type": "code",
   "execution_count": 75,
   "id": "8fc61805-bc59-4dc4-acc7-b47019214da8",
   "metadata": {},
   "outputs": [],
   "source": [
    "out_fil = f\"ann_{prefix}_{round_v}.csv\"\n",
    "if os.path.exists(out_fil):\n",
    "    print(\"file exists, change the name\")\n",
    "else:\n",
    "    annotations.to_csv(out_fil,index=False)"
   ]
  },
  {
   "cell_type": "code",
   "execution_count": 77,
   "id": "a0ab1fcb-2cf1-4bb1-9d96-7a8a32266b98",
   "metadata": {},
   "outputs": [],
   "source": [
    "def set_labels(annotations):\n",
    "    labels = []\n",
    "    for x in annotations.label:\n",
    "        if x == '1':\n",
    "            labels.append(1)\n",
    "        elif x == '0':\n",
    "            labels.append(0)\n",
    "        else:\n",
    "            labels.append(LABEL_IGNORED)\n",
    "        \n",
    "        #lab = get_val(x)\n",
    "        # if lab is None:\n",
    "        #     labels.append(LABEL_IGNORED)\n",
    "        # else:\n",
    "        #     labels.append(lab)\n",
    "    return np.array(labels)"
   ]
  },
  {
   "cell_type": "code",
   "execution_count": 28,
   "id": "0884927b-b3cf-4fdb-9117-26e98a0c8dd5",
   "metadata": {},
   "outputs": [],
   "execution_count": 8,
   "metadata": {},
   "source": [
    "active_learner.update(set_labels(annotations))"
   ]
  },
  {
   "cell_type": "code",
   "execution_count": null,
   "id": "19ea5496-e626-4641-b033-049762d90a03",
   "metadata": {
    "tags": []
   },
   "outputs": [],
   "source": [
    "\n",
    "# memory fix: https://github.com/UKPLab/sentence-transformers/issues/487, https://github.com/UKPLab/sentence-transformers/issues/1793\n",
    "gc.collect()\n",
    "torch.cuda.empty_cache()\n",
    "\n",
    "print('---------------')\n",
    "print('Iteration #{:d} ({} samples)'.format(0, len(active_learner.indices_labeled)))\n",
    "results_setfit.append(evaluate(active_learner, train[active_learner.indices_labeled], validation_dataset))"
   ]
  },
  {
   "cell_type": "code",
   "execution_count": 85,
   "id": "7c747828-c396-4a90-9f15-18285ac16733",
   "metadata": {},
   "outputs": [],
   "execution_count": 8,
   "metadata": {},
   "source": [
    "pd.set_option('display.max_colwidth', None)\n",
    "m = pd.DataFrame({\"x\":validation_dataset.x, \"y\":validation_dataset.y, \"pred\": active_learner.classifier.predict_proba(validation_dataset)[:,1]})\n",
    "m['pred_bin'] = m['pred'] > .5\n",
    "m[(m.pred_bin == 0) & (m.y == 0)]"
   ]
  }
 ],
 "metadata": {
  "kernelspec": {
   "display_name": "Python 3 (ipykernel)",
   "language": "python",
   "name": "python3"
  },
  "language_info": {
   "codemirror_mode": {
    "name": "ipython",
    "version": 3
   },
   "file_extension": ".py",
   "mimetype": "text/x-python",
   "name": "python",
   "nbconvert_exporter": "python",
   "pygments_lexer": "ipython3",
   "version": "3.11.5"
  }
 },
 "nbformat": 4,
 "nbformat_minor": 5
}
